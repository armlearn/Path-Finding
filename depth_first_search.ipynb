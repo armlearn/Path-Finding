{
 "cells": [
  {
   "cell_type": "code",
   "execution_count": 13,
   "metadata": {},
   "outputs": [
    {
     "name": "stdout",
     "output_type": "stream",
     "text": [
      "0 0 0 0 + 0 \n",
      "0 0 0 0 + 0 \n",
      "0 0 0 0 + + \n",
      "0 0 0 1 1 + \n",
      "0 0 0 0 1 + \n",
      "0 0 0 1 1 + \n",
      "0 0 + + + + \n"
     ]
    }
   ],
   "source": [
    "maze = [\n",
    "  [0, 0, 0, 0, \"S\", 0],\n",
    "  [0, 0, 0, 0, 0, 0],\n",
    "  [0, 0, 0, 0, 0, 0],\n",
    "  [0, 0, 0, 1, 1, 0],\n",
    "  [0, 0, 0, 0, 1, 0],\n",
    "  [0, 0, 0, 1, 1, 0],\n",
    "  [0, 0, \"E\", 0, 0, 0]\n",
    "]\n",
    "BLOCK_KEY = 1\n",
    "def valid(pos, matrix, visited):\n",
    "  global BLOCK_KEY\n",
    "  x = pos[0]\n",
    "  y = pos[1]\n",
    "  # Check x and y size is not greater than matirx size or less then 0\n",
    "  if not (0 <= x < len(matrix[0]) and 0 <= y < len(matrix)):\n",
    "    return False\n",
    "  # Check is position is'nt blocked\n",
    "  if matrix[y][x] == BLOCK_KEY:\n",
    "    return False\n",
    "  # Check position is Visited or not\n",
    "  return not pos in visited\n",
    "# Get Neigbours \n",
    "def get_neighbours(pos, matrix, visited):\n",
    "  x = pos[0]\n",
    "  y = pos[1]\n",
    "  x_pos = [0, 1, 0, -1]\n",
    "  y_pos = [1, 0, -1, 0]\n",
    "  result = []\n",
    "  for i in range(4):\n",
    "    XX = x_pos[i]+x\n",
    "    YY = y_pos[i]+y\n",
    "    if valid((XX, YY), matrix, visited):\n",
    "      result.append((XX, YY))\n",
    "  return result\n",
    "# Display Visual Path\n",
    "def display(path, matrix):\n",
    "  for y in range(len(matrix)):\n",
    "    for x in range(len(matrix[0])):\n",
    "      if (x, y) in path:\n",
    "        matrix[y][x] = \"+\"\n",
    "      print(matrix[y][x], end=\" \")\n",
    "    print()\n",
    "def depth_first_search(start_pos, end_pos, matrix):\n",
    "  arr = []\n",
    "  visited = []\n",
    "  arr.append(start_pos)\n",
    "  visited.append(start_pos)\n",
    "  while True:\n",
    "    pos = arr[-1]\n",
    "    neighbours = get_neighbours(pos, matrix, visited)\n",
    "    if len(neighbours) == 0:\n",
    "      while True:\n",
    "        pos = arr.pop()\n",
    "        # Check if array has only start pos\n",
    "        if len(arr) == 1:\n",
    "          break\n",
    "        # Find new position that has multi exists\n",
    "        if not pos in visited:\n",
    "          if len(get_neighbours(pos)) > 0:\n",
    "            neighbours = get_neighbours(pos)\n",
    "            break \n",
    "    # Find positions that exisits\n",
    "    for new_pos in neighbours:\n",
    "      if not new_pos in arr:\n",
    "        visited.append(new_pos)\n",
    "        arr.append(new_pos)\n",
    "        if new_pos == end_pos:\n",
    "          return arr\n",
    "        break\n",
    "display(depth_first_search((4, 0), (2, 6), maze), maze)"
   ]
  },
  {
   "cell_type": "code",
   "execution_count": null,
   "metadata": {},
   "outputs": [],
   "source": []
  }
 ],
 "metadata": {
  "kernelspec": {
   "display_name": "Python 3",
   "language": "python",
   "name": "python3"
  },
  "language_info": {
   "codemirror_mode": {
    "name": "ipython",
    "version": 3
   },
   "file_extension": ".py",
   "mimetype": "text/x-python",
   "name": "python",
   "nbconvert_exporter": "python",
   "pygments_lexer": "ipython3",
   "version": "3.8.3"
  }
 },
 "nbformat": 4,
 "nbformat_minor": 4
}
