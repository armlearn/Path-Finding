{
 "cells": [
  {
   "cell_type": "code",
   "execution_count": null,
   "metadata": {},
   "outputs": [],
   "source": [
    "from queue import Queue\n",
    "maze = [\n",
    "  [0, 0, 0, 0, \"S\", 0],\n",
    "  [0, 0, 0, 0, 0, 0],\n",
    "  [0, 0, 0, 1, 1, 1],\n",
    "  [0, 0, 1, 0, 0, 0],\n",
    "  [0, 0, 0, 0, 0, 0],\n",
    "  [0, 1, 1, 1, 0, 0],\n",
    "  [0, 1, \"E\", 0, 0, 0]\n",
    "]\n",
    "BLOCK_KEY = 1\n",
    "def valid(pos, matrix):\n",
    "  global BLOCK_KEY\n",
    "  x = pos[0]\n",
    "  y = pos[1]\n",
    "  # Check x and y size is'nt greater than matirx size or less then 0\n",
    "  if not (0 <= x < len(matrix[0]) and 0 <= y < len(matrix)):\n",
    "    return False\n",
    "  # Check is position is'nt blocked\n",
    "  if matrix[y][x] == BLOCK_KEY:\n",
    "    return False\n",
    "  return True\n",
    "def get_neighbours(pos, matrix):\n",
    "  x = pos[0]\n",
    "  y = pos[1]\n",
    "  x_pos = [0, -1, 0, 1]\n",
    "  y_pos = [1, 0, -1, 0]\n",
    "  result = []\n",
    "  for i in range(4):\n",
    "    XX = x_pos[i]+x\n",
    "    YY = y_pos[i]+y\n",
    "    if valid((XX, YY), matrix):\n",
    "      result.append((XX, YY))\n",
    "  return result\n",
    "def breadth_first_search(start_pos, end_pos, matrix):\n",
    "  paths = Queue()\n",
    "  paths.put([start_pos])\n",
    "  while not paths.empty():\n",
    "    path = paths.get()\n",
    "    pos = path[-1]\n",
    "    for neighbour in get_neighbours(pos, matrix):\n",
    "      # Get new path with previous path last position\n",
    "      new_path = list(path)\n",
    "      new_path.append(neighbour)\n",
    "      # Check neighbours is searched positon\n",
    "      if neighbour == end_pos:\n",
    "        return new_path\n",
    "      paths.put(new_path)\n",
    "# Viusal Display Path \n",
    "def display(path, matrix):\n",
    "  for y in range(len(matrix)):\n",
    "    for x in range(len(matrix[0])):\n",
    "      if (x, y) in path:\n",
    "        matrix[y][x] = \"+\"\n",
    "      print(matrix[y][x], end=\" \")\n",
    "    print()\n",
    "path = breadth_first_search((4, 0), (2, 6), maze)\n",
    "display(path, maze)"
   ]
  },
  {
   "cell_type": "code",
   "execution_count": null,
   "metadata": {},
   "outputs": [],
   "source": []
  }
 ],
 "metadata": {
  "kernelspec": {
   "display_name": "Python 3",
   "language": "python",
   "name": "python3"
  },
  "language_info": {
   "codemirror_mode": {
    "name": "ipython",
    "version": 3
   },
   "file_extension": ".py",
   "mimetype": "text/x-python",
   "name": "python",
   "nbconvert_exporter": "python",
   "pygments_lexer": "ipython3",
   "version": "3.8.3"
  }
 },
 "nbformat": 4,
 "nbformat_minor": 4
}
